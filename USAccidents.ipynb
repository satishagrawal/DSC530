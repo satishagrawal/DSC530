{
 "cells": [
  {
   "cell_type": "code",
   "execution_count": 3,
   "metadata": {},
   "outputs": [],
   "source": [
    "import pandas as pd\n",
    "import numpy as np\n",
    "import thinkstats2\n",
    "import thinkplot"
   ]
  },
  {
   "cell_type": "code",
   "execution_count": 4,
   "metadata": {},
   "outputs": [],
   "source": [
    "df_full = pd.read_csv('US_Accidents_Dec19.csv')"
   ]
  },
  {
   "cell_type": "code",
   "execution_count": 90,
   "metadata": {},
   "outputs": [],
   "source": [
    "# Traffic_signal\n",
    "# Weather_Condition\n",
    "# Wind_Speed(mph)\n",
    "# Visibility(mi)\n",
    "# Temparature(F)\n",
    "# Severity"
   ]
  },
  {
   "cell_type": "code",
   "execution_count": 62,
   "metadata": {},
   "outputs": [],
   "source": [
    "# list all the columns in the data set\n",
    "df_full['Start_Time'] = pd.to_datetime(df_full['Start_Time'], format=\"\")\n",
    "df_full = df_full.dropna(subset = ['Visibility(mi)','Traffic_Signal', 'Wind_Speed(mph)','Weather_Condition','Temperature(F)', 'Severity'])\n",
    "df = df_full.loc[df_full['Start_Time'] > '2019-01-01']"
   ]
  },
  {
   "cell_type": "code",
   "execution_count": 7,
   "metadata": {},
   "outputs": [
    {
     "name": "stderr",
     "output_type": "stream",
     "text": [
      "C:\\Users\\SAgrawal\\Anaconda3\\lib\\site-packages\\ipykernel_launcher.py:2: SettingWithCopyWarning: \n",
      "A value is trying to be set on a copy of a slice from a DataFrame.\n",
      "Try using .loc[row_indexer,col_indexer] = value instead\n",
      "\n",
      "See the caveats in the documentation: https://pandas.pydata.org/pandas-docs/stable/user_guide/indexing.html#returning-a-view-versus-a-copy\n",
      "  \n"
     ]
    }
   ],
   "source": [
    "visibility = df['Visibility(mi)']#.dropna()#.astype(int)\n",
    "df['visibility'] = visibility"
   ]
  },
  {
   "cell_type": "code",
   "execution_count": 8,
   "metadata": {},
   "outputs": [
    {
     "data": {
      "text/plain": [
       "Hist({10.0: 708798, 7.0: 26716, 9.0: 23395, 8.0: 18932, 5.0: 16910, 6.0: 15608, 2.0: 14289, 4.0: 14142, 3.0: 14088, 1.0: 11350, 0.5: 4103, 2.5: 2512, 0.25: 2381, 0.75: 1957, 1.5: 1882, 0.8: 1597, 0.2: 1576, 1.8: 1277, 1.2: 1123, 30.0: 781, 15.0: 710, 20.0: 667, 0.0: 586, 40.0: 390, 13.0: 349, 50.0: 340, 0.12: 246, 0.1: 168, 25.0: 153, 45.0: 85, 70.0: 78, 60.0: 64, 0.06: 39, 12.0: 39, 0.63: 32, 2.8: 30, 0.38: 27, 0.4: 25, 80.0: 25, 35.0: 25, 0.6: 24, 2.2: 23, 0.88: 20, 0.9: 13, 1.1: 11, 1.9: 9, 1.4: 8, 1.6: 7, 5.5: 5, 90.0: 5, 3.5: 4, 0.19: 4, 14.0: 3, 76.0: 3, 75.0: 2, 101.0: 1, 16.0: 1, 19.0: 1, 130.0: 1, 110.0: 1})"
      ]
     },
     "execution_count": 8,
     "metadata": {},
     "output_type": "execute_result"
    }
   ],
   "source": [
    "hist = thinkstats2.Hist(visibility)\n",
    "hist"
   ]
  },
  {
   "cell_type": "code",
   "execution_count": 9,
   "metadata": {},
   "outputs": [
    {
     "data": {
      "text/plain": [
       "dict_keys([10.0, 7.0, 9.0, 8.0, 5.0, 6.0, 2.0, 4.0, 3.0, 1.0, 0.5, 2.5, 0.25, 0.75, 1.5, 0.8, 0.2, 1.8, 1.2, 30.0, 15.0, 20.0, 0.0, 40.0, 13.0, 50.0, 0.12, 0.1, 25.0, 45.0, 70.0, 60.0, 0.06, 12.0, 0.63, 2.8, 0.38, 0.4, 80.0, 35.0, 0.6, 2.2, 0.88, 0.9, 1.1, 1.9, 1.4, 1.6, 5.5, 90.0, 3.5, 0.19, 14.0, 76.0, 75.0, 101.0, 16.0, 19.0, 130.0, 110.0])"
      ]
     },
     "execution_count": 9,
     "metadata": {},
     "output_type": "execute_result"
    }
   ],
   "source": [
    "hist.Values()"
   ]
  },
  {
   "cell_type": "code",
   "execution_count": 10,
   "metadata": {},
   "outputs": [
    {
     "name": "stdout",
     "output_type": "stream",
     "text": [
      "0.0 586\n",
      "0.06 39\n",
      "0.1 168\n",
      "0.12 246\n",
      "0.19 4\n",
      "0.2 1576\n",
      "0.25 2381\n",
      "0.38 27\n",
      "0.4 25\n",
      "0.5 4103\n"
     ]
    }
   ],
   "source": [
    "for v, freq in hist.Smallest(10):\n",
    "    print(v, freq)"
   ]
  },
  {
   "cell_type": "code",
   "execution_count": 11,
   "metadata": {},
   "outputs": [
    {
     "name": "stdout",
     "output_type": "stream",
     "text": [
      "130.0 1\n",
      "110.0 1\n",
      "101.0 1\n",
      "90.0 5\n",
      "80.0 25\n",
      "76.0 3\n",
      "75.0 2\n",
      "70.0 78\n",
      "60.0 64\n",
      "50.0 340\n"
     ]
    }
   ],
   "source": [
    "for v, freq in hist.Largest(10):\n",
    "    print(v, freq)"
   ]
  },
  {
   "cell_type": "code",
   "execution_count": 12,
   "metadata": {
    "scrolled": true
   },
   "outputs": [
    {
     "data": {
      "image/png": "[encoded data removed]",
      "text/plain": [
       "<Figure size 432x288 with 1 Axes>"
      ]
     },
     "metadata": {
      "needs_background": "light"
     },
     "output_type": "display_data"
    },
    {
     "data": {
      "text/plain": [
       "<Figure size 576x432 with 0 Axes>"
      ]
     },
     "metadata": {},
     "output_type": "display_data"
    }
   ],
   "source": [
    "thinkplot.Hist(hist)\n",
    "thinkplot.Show(xlabel='value', ylabel='frequency')"
   ]
  },
  {
   "cell_type": "code",
   "execution_count": 13,
   "metadata": {},
   "outputs": [
    {
     "data": {
      "text/plain": [
       "9.101511466910514"
      ]
     },
     "execution_count": 13,
     "metadata": {},
     "output_type": "execute_result"
    }
   ],
   "source": [
    "visibility.mean()"
   ]
  },
  {
   "cell_type": "code",
   "execution_count": 14,
   "metadata": {},
   "outputs": [
    {
     "data": {
      "text/plain": [
       "7.942416344406279"
      ]
     },
     "execution_count": 14,
     "metadata": {},
     "output_type": "execute_result"
    }
   ],
   "source": [
    "visibility.var()"
   ]
  },
  {
   "cell_type": "code",
   "execution_count": 15,
   "metadata": {},
   "outputs": [
    {
     "data": {
      "text/plain": [
       "2.8182292923760266"
      ]
     },
     "execution_count": 15,
     "metadata": {},
     "output_type": "execute_result"
    }
   ],
   "source": [
    "visibility.std()"
   ]
  },
  {
   "cell_type": "code",
   "execution_count": 16,
   "metadata": {},
   "outputs": [],
   "source": [
    "weather = df['Weather_Condition']#.dropna()"
   ]
  },
  {
   "cell_type": "code",
   "execution_count": 17,
   "metadata": {},
   "outputs": [],
   "source": [
    "weather_hist = thinkstats2.Hist(weather)"
   ]
  },
  {
   "cell_type": "code",
   "execution_count": 18,
   "metadata": {},
   "outputs": [
    {
     "name": "stdout",
     "output_type": "stream",
     "text": [
      "Hist({'Fair': 322451, 'Mostly Cloudy': 124217, 'Cloudy': 111630, 'Partly Cloudy': 97296, 'Clear': 48947, 'Light Rain': 45448, 'Overcast': 44845, 'Light Snow': 14870, 'Scattered Clouds': 12262, 'Fog': 11203, 'Rain': 10773, 'Haze': 8206, 'Heavy Rain': 3938, 'Fair / Windy': 3580, 'Light Drizzle': 3316, 'T-Storm': 2094, 'Thunder in the Vicinity': 2090, 'Cloudy / Windy': 2023, 'Mostly Cloudy / Windy': 1959, 'Light Rain with Thunder': 1891, 'Snow': 1688, 'Thunder': 1585, 'Partly Cloudy / Windy': 1266, 'Heavy T-Storm': 1231, 'Light Rain / Windy': 998, 'Wintry Mix': 791, 'Light Freezing Rain': 748, 'Drizzle': 603, 'Patches of Fog': 587, 'Smoke': 549, 'Mist': 459, 'Light Snow / Windy': 442, 'Light Freezing Drizzle': 371, 'Heavy Snow': 342, 'Shallow Fog': 316, 'Rain / Windy': 284, 'Showers in the Vicinity': 251, 'N/A Precipitation': 165, 'Light Freezing Fog': 154, 'Heavy Rain / Windy': 141, 'Heavy T-Storm / Windy': 138, 'T-Storm / Windy': 126, 'Light Thunderstorms and Rain': 124, 'Blowing Snow': 118, 'Thunderstorms and Rain': 105, 'Thunder / Windy': 80, 'Heavy Drizzle': 78, 'Haze / Windy': 65, 'Drizzle and Fog': 64, 'Blowing Dust / Windy': 62, 'Fog / Windy': 58, 'Heavy Thunderstorms and Rain': 53, 'Light Rain Shower': 52, 'Light Ice Pellets': 47, 'Ice Pellets': 45, 'Snow / Windy': 44, 'Blowing Dust': 43, 'Thunderstorm': 32, 'Sand / Dust Whirlwinds': 27, 'Light Drizzle / Windy': 25, 'Widespread Dust': 25, 'Heavy Snow / Windy': 21, 'Rain Showers': 20, 'Wintry Mix / Windy': 19, 'Freezing Rain': 17, 'Partial Fog': 10, 'Blowing Snow / Windy': 10, 'Light Snow with Thunder': 9, 'Snow and Sleet / Windy': 9, 'Snow and Sleet': 9, 'Light Snow and Sleet': 8, 'Rain Shower': 6, 'Heavy Sleet': 6, 'Heavy Snow with Thunder': 6, 'Small Hail': 6, 'Light Thunderstorms and Snow': 5, 'Squalls / Windy': 5, 'Light Snow and Sleet / Windy': 4, 'Low Drifting Snow': 4, 'Drizzle / Windy': 4, 'Light Snow Showers': 4, 'Squalls': 4, 'Light Freezing Rain / Windy': 4, 'Tornado': 3, 'Light Sleet': 3, 'Light Snow Grains': 3, 'Sleet': 3, 'Heavy Blowing Snow': 2, 'Sand / Dust Whirlwinds / Windy': 2, 'Smoke / Windy': 2, 'Funnel Cloud': 2, 'Partial Fog / Windy': 1, 'Snow and Thunder': 1, 'Light Rain Showers': 1, 'Light Snow Shower': 1, 'Light Rain Shower / Windy': 1, 'Thunder and Hail / Windy': 1, 'Hail': 1, 'Heavy Freezing Drizzle': 1, 'Widespread Dust / Windy': 1, 'Thunder / Wintry Mix / Windy': 1})\n"
     ]
    }
   ],
   "source": [
    "print(weather_hist)"
   ]
  },
  {
   "cell_type": "code",
   "execution_count": 19,
   "metadata": {},
   "outputs": [
    {
     "name": "stderr",
     "output_type": "stream",
     "text": [
      "C:\\Users\\SAgrawal\\Anaconda3\\lib\\site-packages\\ipykernel_launcher.py:11: SettingWithCopyWarning: \n",
      "A value is trying to be set on a copy of a slice from a DataFrame.\n",
      "Try using .loc[row_indexer,col_indexer] = value instead\n",
      "\n",
      "See the caveats in the documentation: https://pandas.pydata.org/pandas-docs/stable/user_guide/indexing.html#returning-a-view-versus-a-copy\n",
      "  # This is added back by InteractiveShellApp.init_path()\n"
     ]
    },
    {
     "data": {
      "text/plain": [
       "Hist({'Fair': 322451, 'Mostly Cloudy': 124217, 'Others': 138255, 'Partly Cloudy': 97296, 'Cloudy': 111630, 'Clear': 48947, 'Overcast': 44845})"
      ]
     },
     "execution_count": 19,
     "metadata": {},
     "output_type": "execute_result"
    }
   ],
   "source": [
    "def Process_Weather(weather):\n",
    "    weather2 = []\n",
    "    for w in weather:\n",
    "        if w in ['Fair', 'Mostly Cloudy', 'Cloudy', 'Partly Cloudy', 'Clear', 'Overcast']:\n",
    "            weather2.append(w)\n",
    "        else:\n",
    "            weather2.append('Others')\n",
    "    return weather2\n",
    " \n",
    "weather2 = Process_Weather(weather)\n",
    "df['Weather2'] = weather2\n",
    "weather_hist2 = thinkstats2.Hist(weather2)\n",
    "weather_hist2"
   ]
  },
  {
   "cell_type": "markdown",
   "metadata": {},
   "source": [
    "# thinkplot.Hist(weather_hist2)\n",
    "thinkplot.Show(xlabel='value', ylabel='frequency')"
   ]
  },
  {
   "cell_type": "code",
   "execution_count": 21,
   "metadata": {},
   "outputs": [
    {
     "data": {
      "text/plain": [
       "dict_keys(['Fair', 'Mostly Cloudy', 'Cloudy', 'Partly Cloudy', 'Clear', 'Light Rain', 'Overcast', 'Light Snow', 'Scattered Clouds', 'Fog', 'Rain', 'Haze', 'Heavy Rain', 'Fair / Windy', 'Light Drizzle', 'T-Storm', 'Thunder in the Vicinity', 'Cloudy / Windy', 'Mostly Cloudy / Windy', 'Light Rain with Thunder', 'Snow', 'Thunder', 'Partly Cloudy / Windy', 'Heavy T-Storm', 'Light Rain / Windy', 'Wintry Mix', 'Light Freezing Rain', 'Drizzle', 'Patches of Fog', 'Smoke', 'Mist', 'Light Snow / Windy', 'Light Freezing Drizzle', 'Heavy Snow', 'Shallow Fog', 'Rain / Windy', 'Showers in the Vicinity', 'N/A Precipitation', 'Light Freezing Fog', 'Heavy Rain / Windy', 'Heavy T-Storm / Windy', 'T-Storm / Windy', 'Light Thunderstorms and Rain', 'Blowing Snow', 'Thunderstorms and Rain', 'Thunder / Windy', 'Heavy Drizzle', 'Haze / Windy', 'Drizzle and Fog', 'Blowing Dust / Windy', 'Fog / Windy', 'Heavy Thunderstorms and Rain', 'Light Rain Shower', 'Light Ice Pellets', 'Ice Pellets', 'Snow / Windy', 'Blowing Dust', 'Thunderstorm', 'Sand / Dust Whirlwinds', 'Light Drizzle / Windy', 'Widespread Dust', 'Heavy Snow / Windy', 'Rain Showers', 'Wintry Mix / Windy', 'Freezing Rain', 'Partial Fog', 'Blowing Snow / Windy', 'Light Snow with Thunder', 'Snow and Sleet / Windy', 'Snow and Sleet', 'Light Snow and Sleet', 'Rain Shower', 'Heavy Sleet', 'Heavy Snow with Thunder', 'Small Hail', 'Light Thunderstorms and Snow', 'Squalls / Windy', 'Light Snow and Sleet / Windy', 'Low Drifting Snow', 'Drizzle / Windy', 'Light Snow Showers', 'Squalls', 'Light Freezing Rain / Windy', 'Tornado', 'Light Sleet', 'Light Snow Grains', 'Sleet', 'Heavy Blowing Snow', 'Sand / Dust Whirlwinds / Windy', 'Smoke / Windy', 'Funnel Cloud', 'Partial Fog / Windy', 'Snow and Thunder', 'Light Rain Showers', 'Light Snow Shower', 'Light Rain Shower / Windy', 'Thunder and Hail / Windy', 'Hail', 'Heavy Freezing Drizzle', 'Widespread Dust / Windy', 'Thunder / Wintry Mix / Windy'])"
      ]
     },
     "execution_count": 21,
     "metadata": {},
     "output_type": "execute_result"
    }
   ],
   "source": [
    "weather_hist.Values()"
   ]
  },
  {
   "cell_type": "code",
   "execution_count": 22,
   "metadata": {},
   "outputs": [],
   "source": [
    "signal = df['Traffic_Signal']#.dropna()"
   ]
  },
  {
   "cell_type": "code",
   "execution_count": 23,
   "metadata": {},
   "outputs": [
    {
     "name": "stdout",
     "output_type": "stream",
     "text": [
      "Hist({False: 743169, True: 144472})\n"
     ]
    }
   ],
   "source": [
    "signal_hist = thinkstats2.Hist(signal)\n",
    "print(signal_hist)"
   ]
  },
  {
   "cell_type": "code",
   "execution_count": 24,
   "metadata": {},
   "outputs": [
    {
     "data": {
      "image/png": "[encoded data removed]",
      "text/plain": [
       "<Figure size 432x288 with 1 Axes>"
      ]
     },
     "metadata": {
      "needs_background": "light"
     },
     "output_type": "display_data"
    },
    {
     "data": {
      "text/plain": [
       "<Figure size 576x432 with 0 Axes>"
      ]
     },
     "metadata": {},
     "output_type": "display_data"
    }
   ],
   "source": [
    "thinkplot.Hist(signal_hist)\n",
    "thinkplot.Show(xlabel='value', ylabel='frequency')"
   ]
  },
  {
   "cell_type": "code",
   "execution_count": 25,
   "metadata": {},
   "outputs": [],
   "source": [
    "wind = df['Wind_Speed(mph)']#.dropna()"
   ]
  },
  {
   "cell_type": "code",
   "execution_count": 26,
   "metadata": {},
   "outputs": [
    {
     "name": "stdout",
     "output_type": "stream",
     "text": [
      "Hist({0.0: 131712, 5.0: 75003, 3.0: 73180, 6.0: 71691, 7.0: 66332, 8.0: 58232, 9.0: 50833, 10.0: 41189, 12.0: 35456, 13.0: 26541, 15.0: 21675, 14.0: 21010, 4.6: 20515, 5.8: 20186, 3.5: 19314, 6.9: 18552, 8.1: 17286, 9.2: 15135, 10.4: 12382, 16.0: 11797, 11.5: 11293, 17.0: 8987, 12.7: 8872, 13.8: 7463, 18.0: 6533, 20.0: 4758, 16.1: 4601, 17.3: 3796, 21.0: 3306, 18.4: 2934, 23.0: 2579, 22.0: 2556, 19.6: 2176, 20.7: 1764, 21.9: 1329, 24.0: 1202, 25.0: 858, 24.2: 691, 26.0: 569, 25.3: 451, 28.0: 433, 26.5: 345, 29.0: 316, 27.6: 264, 28.8: 231, 30.0: 198, 31.0: 127, 29.9: 124, 31.1: 103, 2.0: 101, 32.0: 68, 32.2: 61, 34.5: 60, 33.4: 55, 33.0: 52, 35.0: 40, 38.0: 37, 1.0: 34, 35.7: 29, 36.8: 25, 36.0: 24, 37.0: 18, 2.3: 18, 39.1: 15, 1.2: 15, 40.0: 12, 40.3: 12, 41.0: 9, 39.0: 7, 42.6: 7, 47.0: 6, 41.4: 6, 230.0: 4, 44.0: 4, 44.9: 4, 67.0: 4, 58.0: 4, 175.0: 3, 142.0: 3, 169.0: 2, 43.0: 2, 45.0: 2, 113.0: 2, 46.0: 2, 161.0: 2, 255.0: 1, 110.0: 1, 116.0: 1, 54.0: 1, 47.2: 1, 53.0: 1, 52.0: 1, 51.0: 1, 49.5: 1, 157.0: 1, 49.0: 1, 127.0: 1})\n"
     ]
    }
   ],
   "source": [
    "wind_hist = thinkstats2.Hist(wind)\n",
    "print(wind_hist)"
   ]
  },
  {
   "cell_type": "code",
   "execution_count": 27,
   "metadata": {},
   "outputs": [
    {
     "data": {
      "image/png": "[encoded data removed]",
      "text/plain": [
       "<Figure size 432x288 with 1 Axes>"
      ]
     },
     "metadata": {
      "needs_background": "light"
     },
     "output_type": "display_data"
    },
    {
     "data": {
      "text/plain": [
       "<Figure size 576x432 with 0 Axes>"
      ]
     },
     "metadata": {},
     "output_type": "display_data"
    }
   ],
   "source": [
    "thinkplot.Hist(wind_hist)\n",
    "thinkplot.Show(xlabel='value', ylabel='frequency')"
   ]
  },
  {
   "cell_type": "code",
   "execution_count": 28,
   "metadata": {},
   "outputs": [
    {
     "data": {
      "text/plain": [
       "7.42943859059813"
      ]
     },
     "execution_count": 28,
     "metadata": {},
     "output_type": "execute_result"
    }
   ],
   "source": [
    "wind.mean()"
   ]
  },
  {
   "cell_type": "code",
   "execution_count": 29,
   "metadata": {},
   "outputs": [
    {
     "data": {
      "text/plain": [
       "5.300688891804136"
      ]
     },
     "execution_count": 29,
     "metadata": {},
     "output_type": "execute_result"
    }
   ],
   "source": [
    "wind.std()"
   ]
  },
  {
   "cell_type": "code",
   "execution_count": 30,
   "metadata": {},
   "outputs": [
    {
     "data": {
      "text/plain": [
       "28.09730272769576"
      ]
     },
     "execution_count": 30,
     "metadata": {},
     "output_type": "execute_result"
    }
   ],
   "source": [
    "wind.var()"
   ]
  },
  {
   "cell_type": "code",
   "execution_count": 31,
   "metadata": {},
   "outputs": [],
   "source": [
    "temp= df['Temperature(F)']#.dropna()"
   ]
  },
  {
   "cell_type": "code",
   "execution_count": 32,
   "metadata": {},
   "outputs": [
    {
     "name": "stdout",
     "output_type": "stream",
     "text": [
      "Hist({73.0: 20879, 68.0: 19512, 75.0: 19476, 72.0: 19435, 64.0: 19382, 63.0: 19358, 70.0: 19041, 77.0: 18809, 66.0: 18311, 59.0: 18110, 61.0: 17893, 79.0: 17419, 57.0: 16882, 54.0: 16265, 81.0: 16089, 55.0: 15809, 50.0: 15239, 82.0: 15057, 71.0: 14432, 76.0: 14407, 74.0: 14257, 52.0: 13927, 67.0: 13696, 78.0: 13688, 69.0: 13637, 80.0: 12841, 84.0: 12788, 65.0: 12539, 62.0: 11891, 86.0: 11555, 60.0: 11496, 48.0: 11410, 46.0: 11148, 83.0: 11020, 45.0: 10935, 58.0: 10846, 88.0: 10221, 56.0: 10083, 85.0: 9878, 43.0: 9479, 41.0: 9096, 53.0: 8782, 90.0: 8631, 87.0: 8142, 32.0: 7996, 91.0: 7706, 51.0: 7610, 37.0: 7476, 39.0: 7444, 89.0: 7281, 36.0: 7188, 34.0: 6866, 49.0: 6856, 47.0: 6453, 30.0: 5558, 93.0: 5503, 44.0: 5210, 92.0: 4828, 28.0: 4593, 42.0: 4478, 40.0: 3947, 27.0: 3947, 95.0: 3631, 38.0: 3507, 94.0: 3395, 33.0: 3250, 55.9: 3114, 53.1: 3100, 25.0: 3075, 51.1: 3019, 35.0: 3014, 23.0: 2950, 57.9: 2950, 33.1: 2847, 44.1: 2802, 46.9: 2773, 42.1: 2726, 48.9: 2723, 60.1: 2652, 39.9: 2571, 37.9: 2552, 31.0: 2525, 97.0: 2484, 35.1: 2474, 30.9: 2365, 62.1: 2251, 96.0: 2239, 28.9: 2231, 21.0: 2084, 64.9: 1944, 19.0: 1857, 29.0: 1827, 26.1: 1760, 18.0: 1675, 66.9: 1619, 53.6: 1516, 98.0: 1472, 99.0: 1448, 26.0: 1419, 55.4: 1418, 16.0: 1406, 24.1: 1396, 69.1: 1341, 51.8: 1267, 57.2: 1249, 71.1: 1207, 21.9: 1206, 14.0: 1195, 46.4: 1137, 24.0: 1132, 44.6: 1096, 48.2: 1064, 19.9: 1059, 37.4: 1038, 60.8: 1033, 100.0: 959, 62.6: 949, 42.8: 939, 33.8: 913, 22.0: 897, 39.2: 893, 73.9: 871, 75.9: 865, 35.6: 863, 30.2: 838, 64.4: 806, 12.0: 790, 10.0: 717, 20.0: 704, 28.4: 696, 66.2: 683, 15.1: 677, 17.1: 653, 12.9: 631, 9.0: 587, 69.8: 579, 26.6: 573, 102.0: 541, 101.0: 529, 10.9: 507, 17.0: 488, 71.6: 486, 78.1: 481, 7.0: 480, 5.0: 477, 24.8: 452, 21.2: 446, 19.4: 402, 8.1: 396, 6.1: 365, 73.4: 361, 17.6: 351, 80.1: 343, 15.0: 336, 103.0: 329, 3.0: 324, 3.9: 313, 1.0: 293, 104.0: 285, 0.0: 266, 15.8: 254, 75.2: 253, 108.0: 249, 106.0: 248, 13.0: 221, 1.9: 219, 8.6: 195, 107.0: 192, 12.2: 192, -2.0: 178, 11.0: 176, -0.9: 176, 105.0: 173, 78.8: 171, 10.4: 157, 82.9: 150, 109.0: 144, -4.0: 142, 6.8: 136, -9.0: 123, 8.0: 122, 80.6: 115, -2.9: 111, 3.2: 102, -6.0: 99, 6.0: 98, -5.1: 93, -0.4: 87, 111.0: 87, 84.9: 85, 1.4: 83, 32.9: 83, -7.1: 80, 27.5: 79, 43.7: 73, -2.2: 72, 110.0: 71, 36.5: 71, 38.3: 69, 34.7: 68, -8.0: 67, 40.3: 65, 47.5: 64, 31.1: 63, -9.9: 63, 40.1: 62, 36.3: 62, 31.8: 62, 41.2: 61, 82.4: 61, 44.8: 61, 4.0: 60, 22.6: 59, 33.4: 57, 41.9: 56, 29.3: 56, 30.6: 56, 45.1: 56, 34.2: 56, 37.6: 55, 40.5: 55, 34.9: 54, 25.3: 53, 35.2: 53, 32.5: 53, 42.6: 53, 47.3: 53, 50.2: 52, 23.5: 52, 56.3: 52, 112.0: 52, 31.5: 52, 45.5: 51, 23.9: 51, 49.1: 51, 29.8: 50, 36.9: 49, 35.8: 49, 49.3: 48, 32.2: 48, 33.3: 48, 36.7: 47, 57.6: 47, 42.4: 47, 59.2: 47, 15.6: 47, -20.0: 47, 30.7: 46, 28.8: 46, 29.7: 46, 37.8: 46, -11.9: 46, 52.9: 46, -18.9: 46, 38.5: 46, 50.9: 46, 40.6: 45, 27.3: 45, 61.7: 45, -11.0: 45, 40.8: 45, 57.4: 45, 47.8: 44, 25.7: 44, 2.0: 44, 35.4: 43, -5.8: 43, 84.2: 43, 22.1: 43, 39.4: 43, 36.1: 43, 24.6: 42, 48.4: 42, 53.4: 42, -13.0: 42, 39.6: 42, 42.3: 41, 51.6: 41, 60.3: 40, 45.9: 40, 54.3: 40, 37.2: 39, 50.7: 39, 43.5: 39, 24.4: 39, -23.1: 39, 52.3: 39, 46.2: 39, 49.5: 39, 52.2: 38, -1.0: 38, 46.6: 38, 53.8: 38, 41.5: 38, 41.4: 38, 44.2: 37, 54.5: 37, 54.7: 37, 56.7: 37, 46.8: 37, 41.7: 37, 61.9: 37, 26.2: 36, 62.8: 36, 27.7: 36, 34.3: 36, 23.4: 36, 27.9: 36, 43.9: 36, 38.8: 36, 56.5: 35, 59.9: 35, 55.8: 35, -20.9: 35, 44.4: 35, 47.7: 34, 50.4: 34, 24.3: 34, 51.3: 34, 50.5: 34, 47.1: 34, 28.6: 34, 58.1: 33, 23.7: 33, 5.9: 33, 39.7: 32, 28.2: 32, 20.3: 32, 60.6: 32, 59.7: 32, 56.8: 32, 43.2: 32, 49.8: 32, 38.1: 32, 13.1: 32, 52.5: 32, 31.6: 32, 113.0: 32, 21.6: 31, 33.6: 31, 14.9: 31, 38.7: 31, 65.8: 31, 15.4: 31, 59.5: 31, 63.9: 31, 32.4: 31, 27.1: 31, 58.5: 30, 63.1: 30, 61.2: 30, 56.1: 30, 18.5: 30, 63.5: 30, 52.7: 30, 58.6: 30, 26.4: 30, 54.1: 29, 29.1: 29, 60.4: 29, 49.6: 29, 65.1: 29, 63.7: 29, 51.4: 29, 67.3: 29, -17.0: 28, 61.3: 28, 54.9: 28, 45.7: 28, 29.5: 28, 48.7: 27, 55.2: 27, 58.8: 27, -22.0: 27, 58.3: 27, 48.6: 27, 55.6: 27, 20.1: 27, 67.5: 27, 19.8: 27, 65.3: 26, 31.3: 26, 45.3: 26, 22.3: 26, -3.0: 26, 67.1: 26, -20.2: 26, 11.3: 25, 65.5: 25, 22.8: 25, 43.3: 25, 70.7: 25, 21.7: 25, 25.5: 25, 57.7: 24, 20.8: 24, 25.2: 24, 64.8: 24, 69.4: 24, 16.7: 23, 21.4: 23, 62.2: 23, 9.5: 23, 22.5: 23, 30.4: 23, 65.7: 23, 25.9: 22, 23.2: 22, 18.7: 22, -7.0: 22, 71.4: 22, 14.4: 22, -7.6: 22, 14.7: 21, 59.4: 21, 14.5: 21, 62.4: 21, 32.7: 21, 16.5: 21, 68.2: 21, -26.0: 21, -16.1: 21, 72.7: 21, 20.7: 20, -9.4: 20, 68.7: 20, 13.8: 20, 53.2: 20, 63.3: 20, 66.7: 19, 64.6: 19, 15.3: 19, 61.5: 19, 19.2: 19, 18.1: 18, 68.9: 18, 70.3: 18, 12.4: 18, 17.4: 17, 87.1: 17, -14.1: 17, 16.2: 17, 66.6: 17, 11.8: 17, 20.5: 16, 8.4: 16, 74.1: 16, 17.8: 16, 5.4: 16, 4.1: 16, 16.3: 16, 67.8: 16, 68.4: 16, 12.6: 16, 8.2: 16, 34.5: 16, 26.8: 16, -15.0: 15, 10.2: 15, 13.6: 15, -14.8: 15, 11.7: 15, 17.2: 15, 70.5: 15, 18.9: 15, 12.7: 14, 71.8: 14, -24.0: 14, 72.1: 14, 11.5: 14, 68.5: 14, 69.3: 14, 76.5: 14, 11.1: 14, 10.8: 13, 70.2: 13, 74.7: 13, -5.0: 13, 19.6: 13, 72.5: 13, 13.3: 13, 18.3: 12, 74.3: 12, -27.9: 12, 64.2: 12, -23.8: 12, 115.0: 12, -18.0: 12, 74.8: 12, 13.5: 12, 76.3: 12, 71.2: 11, 7.7: 11, 81.3: 11, 77.2: 11, -25.1: 11, 3.7: 11, 66.4: 11, -11.2: 10, 16.9: 10, 76.1: 10, 5.7: 10, 1.2: 10, 67.6: 10, 69.6: 10, 70.9: 10, -16.6: 9, 6.6: 9, 73.2: 9, -18.4: 9, 4.6: 9, 9.9: 9, 14.2: 9, 73.8: 8, 2.8: 8, -27.0: 8, 73.6: 8, 75.6: 8, 72.9: 8, 8.8: 8, 78.6: 7, 9.7: 7, -7.2: 7, 75.7: 7, 78.3: 7, -3.5: 7, 0.9: 7, 81.1: 7, 74.5: 6, 75.4: 6, -10.0: 6, 7.2: 6, 0.5: 6, -2.4: 6, 4.5: 6, 83.8: 6, 77.5: 6, 77.9: 5, 2.1: 5, 4.3: 5, 2.3: 5, 80.2: 5, 6.4: 5, 7.5: 5, 9.3: 5, 89.1: 5, 7.9: 5, 72.3: 5, -2.6: 5, -0.8: 5, -2.7: 5, 7.3: 5, 0.3: 5, -1.8: 5, 79.9: 4, 9.1: 4, 81.7: 4, 76.8: 4, 87.8: 4, 76.6: 4, 5.5: 4, -5.3: 4, -29.0: 4, 77.7: 4, 83.1: 3, -6.2: 3, -12.0: 3, -27.4: 3, -10.1: 3, 10.6: 3, 86.2: 3, 77.4: 3, 6.3: 3, 80.8: 3, 78.4: 3, -21.1: 3, -1.3: 3, 0.1: 3, -4.9: 3, -1.5: 3, -0.2: 3, -1.7: 3, -13.9: 3, 2.5: 3, -4.2: 3, -10.3: 2, 3.6: 2, 83.7: 2, -10.7: 2, 5.2: 2, 83.3: 2, 84.4: 2, 80.4: 2, -19.3: 2, 2.7: 2, -6.7: 2, 81.9: 2, -3.1: 2, -21.3: 2, -3.6: 2, 4.8: 2, -10.8: 2, -8.5: 2, 81.5: 2, -14.4: 1, 170.6: 1, -11.6: 1, -15.9: 1, 89.6: 1, -8.1: 1, -5.6: 1, -13.2: 1, -4.5: 1, 85.8: 1, -17.9: 1, -21.5: 1, -16.2: 1, 86.9: 1, -33.0: 1, -4.4: 1, -4.7: 1, -12.8: 1, -24.2: 1, -16.8: 1, -13.5: 1, 79.3: 1, 79.2: 1, -18.2: 1, -9.8: 1, 79.5: 1, -11.4: 1, -12.3: 1, -15.3: 1, 84.6: 1, -13.4: 1, 1.8: 1, 82.2: 1, -14.0: 1, -3.3: 1, 83.5: 1, -10.5: 1, -0.6: 1, -19.0: 1, -25.6: 1})\n"
     ]
    }
   ],
   "source": [
    "temp_hist = thinkstats2.Hist(temp)\n",
    "print(temp_hist)"
   ]
  },
  {
   "cell_type": "code",
   "execution_count": 91,
   "metadata": {},
   "outputs": [
    {
     "data": {
      "image/png": "[encoded data removed]",
      "text/plain": [
       "<Figure size 432x288 with 1 Axes>"
      ]
     },
     "metadata": {
      "needs_background": "light"
     },
     "output_type": "display_data"
    },
    {
     "data": {
      "text/plain": [
       "<Figure size 576x432 with 0 Axes>"
      ]
     },
     "metadata": {},
     "output_type": "display_data"
    }
   ],
   "source": [
    "thinkplot.Hist(temp_hist)\n",
    "thinkplot.Show(xlabel='value', ylabel='frequency')"
   ]
  },
  {
   "cell_type": "code",
   "execution_count": 33,
   "metadata": {},
   "outputs": [
    {
     "data": {
      "text/plain": [
       "61.503567771204374"
      ]
     },
     "execution_count": 33,
     "metadata": {},
     "output_type": "execute_result"
    }
   ],
   "source": [
    "temp.mean()"
   ]
  },
  {
   "cell_type": "code",
   "execution_count": 34,
   "metadata": {},
   "outputs": [
    {
     "data": {
      "text/plain": [
       "19.233740137254276"
      ]
     },
     "execution_count": 34,
     "metadata": {},
     "output_type": "execute_result"
    }
   ],
   "source": [
    "temp.std()"
   ]
  },
  {
   "cell_type": "code",
   "execution_count": 35,
   "metadata": {},
   "outputs": [
    {
     "data": {
      "text/plain": [
       "369.9367596674261"
      ]
     },
     "execution_count": 35,
     "metadata": {},
     "output_type": "execute_result"
    }
   ],
   "source": [
    "temp.var()"
   ]
  },
  {
   "cell_type": "code",
   "execution_count": 36,
   "metadata": {},
   "outputs": [],
   "source": [
    "severity = df['Severity']#.dropna()"
   ]
  },
  {
   "cell_type": "code",
   "execution_count": 37,
   "metadata": {},
   "outputs": [
    {
     "name": "stdout",
     "output_type": "stream",
     "text": [
      "Hist({2: 641198, 3: 220627, 4: 25633, 1: 183})\n"
     ]
    }
   ],
   "source": [
    "sev_hist = thinkstats2.Hist(severity)\n",
    "print(sev_hist)"
   ]
  },
  {
   "cell_type": "code",
   "execution_count": 38,
   "metadata": {},
   "outputs": [
    {
     "data": {
      "image/png": "[encoded data removed]",
      "text/plain": [
       "<Figure size 432x288 with 1 Axes>"
      ]
     },
     "metadata": {
      "needs_background": "light"
     },
     "output_type": "display_data"
    },
    {
     "data": {
      "text/plain": [
       "<Figure size 576x432 with 0 Axes>"
      ]
     },
     "metadata": {},
     "output_type": "display_data"
    }
   ],
   "source": [
    "thinkplot.Hist(sev_hist)\n",
    "thinkplot.Show(xlabel='value', ylabel='frequency')"
   ]
  },
  {
   "cell_type": "code",
   "execution_count": 39,
   "metadata": {},
   "outputs": [],
   "source": [
    "# Split it in to to sets by severity\n",
    "severe = df[df.Severity > 2]\n",
    "non_severe = df[df.Severity <3]"
   ]
  },
  {
   "cell_type": "code",
   "execution_count": 40,
   "metadata": {},
   "outputs": [
    {
     "name": "stdout",
     "output_type": "stream",
     "text": [
      "Pmf({0.0: 0.12227320717940388, 6.0: 0.07604564281653536, 5.0: 0.07566393242913994, 7.0: 0.07211077722732072, 3.0: 0.07153415089742549, 8.0: 0.0663039064403476, 9.0: 0.05798343214488751, 10.0: 0.0487371071225534, 12.0: 0.04193941362787298, 13.0: 0.031174368553561278, 15.0: 0.027227320717940387, 5.8: 0.026792820596117924, 4.6: 0.026346138227889223, 14.0: 0.025875091366848044, 3.5: 0.024742142451067976, 6.9: 0.024417282546901647, 8.1: 0.022853894258101193, 9.2: 0.020218468285551856, 10.4: 0.0166734345813368, 11.5: 0.01571103711524405, 16.0: 0.014009583367172906, 12.7: 0.012685779257695118, 17.0: 0.010935596523999025, 13.8: 0.010411759928530821, 18.0: 0.0079671891496792, 16.1: 0.006740843011451311, 20.0: 0.005676926825306587, 17.3: 0.0052911556891090715, 18.4: 0.004361244213432957, 21.0: 0.0040038983188499955, 23.0: 0.003191748558434175, 19.6: 0.0031308373264029884, 22.0: 0.003061804596767644, 20.7: 0.0026638512141638915, 21.9: 0.0019978884106229187, 24.0: 0.0015146593031755055, 25.0: 0.0010679769349468042, 24.2: 0.0009908227077073011, 25.3: 0.0007106310403638431, 26.0: 0.000629416064322261, 26.5: 0.0005725655810931536, 28.0: 0.0004751076098432551, 27.6: 0.00045074311703078044, 29.0: 0.00041419637781206855, 28.8: 0.0003776496385933566, 30.0: 0.00029237391374969544, 29.9: 0.00021521968651019247, 2.0: 0.00017867294729148055, 31.0: 0.00017461219848940144, 31.1: 0.00015430845447900592, 34.5: 9.745797124989847e-05, 38.0: 9.745797124989847e-05, 33.4: 8.933647364574028e-05, 32.0: 8.933647364574028e-05, 32.2: 7.715422723950296e-05, 35.0: 6.497198083326565e-05, 1.0: 5.278973442702834e-05, 35.7: 5.278973442702834e-05, 33.0: 5.278973442702834e-05, 39.1: 3.2485990416632826e-05, 2.3: 3.2485990416632826e-05, 36.8: 2.8425241614553722e-05, 1.2: 2.8425241614553722e-05, 42.6: 2.8425241614553722e-05, 41.0: 2.4364492812474618e-05, 36.0: 2.0303744010395517e-05, 37.0: 2.0303744010395517e-05, 40.0: 2.0303744010395517e-05, 47.0: 1.6242995208316413e-05, 39.0: 1.6242995208316413e-05, 44.0: 1.2182246406237309e-05, 175.0: 8.121497604158207e-06, 43.0: 8.121497604158207e-06, 45.0: 8.121497604158207e-06, 40.3: 8.121497604158207e-06, 161.0: 4.060748802079103e-06, 53.0: 4.060748802079103e-06, 157.0: 4.060748802079103e-06, 41.4: 4.060748802079103e-06, 49.0: 4.060748802079103e-06, 67.0: 4.060748802079103e-06, 52.0: 4.060748802079103e-06, 44.9: 4.060748802079103e-06, 169.0: 4.060748802079103e-06, 46.0: 4.060748802079103e-06})\n"
     ]
    }
   ],
   "source": [
    "severe_pmf = thinkstats2.Pmf(severe['Wind_Speed(mph)'])\n",
    "print(severe_pmf)"
   ]
  },
  {
   "cell_type": "code",
   "execution_count": 41,
   "metadata": {},
   "outputs": [
    {
     "name": "stdout",
     "output_type": "stream",
     "text": [
      "Pmf({0.0: 0.15840974397433039, 5.0: 0.08788847814325651, 3.0: 0.08663181478715459, 6.0: 0.08257806202553553, 7.0: 0.07573345640110948, 8.0: 0.06533402143187902, 9.0: 0.05699264555700902, 10.0: 0.04550649302052914, 12.0: 0.039177961305370754, 13.0: 0.02941153542122389, 15.0: 0.023340261092860564, 14.0: 0.02282262804791536, 4.6: 0.021869996148934878, 5.8: 0.021185535586492273, 3.5: 0.020613332792832968, 6.9: 0.019550002260746734, 8.1: 0.018176403728828887, 9.2: 0.015834581941155102, 16.0: 0.013014105500474757, 10.4: 0.012903406867369006, 11.5: 0.011575023270099988, 17.0: 0.009813199954473238, 12.7: 0.008961911874533234, 13.8: 0.007638205684296854, 18.0: 0.007126809182061832, 20.0: 0.005238695876553874, 16.1: 0.004585418027662186, 17.3: 0.003886925244121669, 21.0: 0.003617194771906246, 18.4: 0.0028999923602351803, 22.0: 0.002809562490937524, 23.0: 0.002795530269839612, 19.6: 0.002190585626951843, 20.7: 0.0017275223307207418, 21.9: 0.0013049965621058312, 24.0: 0.0012925234766854648, 25.0: 0.0009276857281397485, 24.2: 0.0006969336478629707, 26.0: 0.0006454821705039594, 28.0: 0.0004926868741044715, 25.3: 0.00043032144700263966, 29.0: 0.00033365503499480033, 26.5: 0.00031806367821934233, 27.6: 0.00023854775866450676, 28.8: 0.00021516072350131983, 30.0: 0.00019645109537077028, 31.0: 0.00013096739691384685, 29.9: 0.0001106986331057515, 31.1: 0.00010134381904047673, 2.0: 8.887073362011036e-05, 32.0: 7.17202411671066e-05, 32.2: 6.548369845692343e-05, 33.0: 6.0806291424286037e-05, 34.5: 5.612888439164865e-05, 33.4: 5.145147735901126e-05, 35.0: 3.74192562610991e-05, 1.0: 3.274184922846171e-05, 36.0: 2.962357787337012e-05, 36.8: 2.8064442195824324e-05, 35.7: 2.4946170840732733e-05, 38.0: 2.0268763808095344e-05, 37.0: 2.0268763808095344e-05, 40.3: 1.559135677545796e-05, 2.3: 1.559135677545796e-05, 1.2: 1.2473085420366366e-05, 39.1: 1.091394974282057e-05, 40.0: 1.091394974282057e-05, 41.4: 7.79567838772898e-06, 230.0: 6.236542710183183e-06, 58.0: 6.236542710183183e-06, 44.9: 4.677407032637388e-06, 41.0: 4.677407032637388e-06, 142.0: 4.677407032637388e-06, 67.0: 4.677407032637388e-06, 39.0: 4.677407032637388e-06, 47.0: 3.1182713550915916e-06, 113.0: 3.1182713550915916e-06, 116.0: 1.5591356775457958e-06, 110.0: 1.5591356775457958e-06, 161.0: 1.5591356775457958e-06, 169.0: 1.5591356775457958e-06, 175.0: 1.5591356775457958e-06, 44.0: 1.5591356775457958e-06, 49.5: 1.5591356775457958e-06, 51.0: 1.5591356775457958e-06, 54.0: 1.5591356775457958e-06, 47.2: 1.5591356775457958e-06, 255.0: 1.5591356775457958e-06, 46.0: 1.5591356775457958e-06, 127.0: 1.5591356775457958e-06})\n"
     ]
    }
   ],
   "source": [
    "non_severe_pmf = thinkstats2.Pmf(non_severe['Wind_Speed(mph)'])\n",
    "print(non_severe_pmf)"
   ]
  },
  {
   "cell_type": "code",
   "execution_count": 42,
   "metadata": {},
   "outputs": [
    {
     "data": {
      "image/png": "[encoded data removed]",
      "text/plain": [
       "<Figure size 432x288 with 1 Axes>"
      ]
     },
     "metadata": {
      "needs_background": "light"
     },
     "output_type": "display_data"
    }
   ],
   "source": [
    "thinkplot.Hist(severe_pmf)"
   ]
  },
  {
   "cell_type": "code",
   "execution_count": 43,
   "metadata": {},
   "outputs": [
    {
     "data": {
      "image/png": "[encoded data removed]",
      "text/plain": [
       "<Figure size 432x288 with 1 Axes>"
      ]
     },
     "metadata": {
      "needs_background": "light"
     },
     "output_type": "display_data"
    }
   ],
   "source": [
    "thinkplot.Hist(non_severe_pmf)"
   ]
  },
  {
   "cell_type": "code",
   "execution_count": 44,
   "metadata": {},
   "outputs": [],
   "source": [
    "severe_cdf = thinkstats2.Cdf(severe_pmf, label='Severe')"
   ]
  },
  {
   "cell_type": "code",
   "execution_count": 45,
   "metadata": {},
   "outputs": [
    {
     "data": {
      "image/png": "[encoded data removed]",
      "text/plain": [
       "<Figure size 432x288 with 1 Axes>"
      ]
     },
     "metadata": {
      "needs_background": "light"
     },
     "output_type": "display_data"
    },
    {
     "data": {
      "text/plain": [
       "<Figure size 576x432 with 0 Axes>"
      ]
     },
     "metadata": {},
     "output_type": "display_data"
    }
   ],
   "source": [
    "thinkplot.Cdf(severe_cdf)\n",
    "thinkplot.Show(xlabel=\"Wind speed\", ylabel='CDF')"
   ]
  },
  {
   "cell_type": "code",
   "execution_count": 46,
   "metadata": {},
   "outputs": [],
   "source": [
    "non_severe_cdf = thinkstats2.Cdf(non_severe_pmf, label='Non Severe')"
   ]
  },
  {
   "cell_type": "code",
   "execution_count": 47,
   "metadata": {},
   "outputs": [
    {
     "data": {
      "image/png": "[encoded data removed]",
      "text/plain": [
       "<Figure size 432x288 with 1 Axes>"
      ]
     },
     "metadata": {
      "needs_background": "light"
     },
     "output_type": "display_data"
    },
    {
     "data": {
      "text/plain": [
       "<Figure size 576x432 with 0 Axes>"
      ]
     },
     "metadata": {},
     "output_type": "display_data"
    }
   ],
   "source": [
    "thinkplot.PrePlot(2)\n",
    "thinkplot.Cdfs([severe_cdf, non_severe_cdf])\n",
    "thinkplot.Show(xlabel='Wind Speed', ylabel='CDF')"
   ]
  },
  {
   "cell_type": "code",
   "execution_count": 48,
   "metadata": {},
   "outputs": [
    {
     "data": {
      "image/png": "[encoded data removed]",
      "text/plain": [
       "<Figure size 432x288 with 1 Axes>"
      ]
     },
     "metadata": {
      "needs_background": "light"
     },
     "output_type": "display_data"
    },
    {
     "data": {
      "text/plain": [
       "<Figure size 576x432 with 0 Axes>"
      ]
     },
     "metadata": {},
     "output_type": "display_data"
    }
   ],
   "source": [
    "severe_pmf = thinkstats2.Pmf(severe['Temperature(F)'])\n",
    "non_severe_pmf = thinkstats2.Pmf(non_severe['Temperature(F)'])\n",
    "severe_cdf = thinkstats2.Cdf(severe_pmf, label='Severe')\n",
    "non_severe_cdf = thinkstats2.Cdf(non_severe_pmf, label='Non Severe')\n",
    "thinkplot.PrePlot(2)\n",
    "thinkplot.Cdfs([severe_cdf, non_severe_cdf])\n",
    "thinkplot.Show(xlabel='Temperature', ylabel='CDF')"
   ]
  },
  {
   "cell_type": "code",
   "execution_count": 49,
   "metadata": {},
   "outputs": [],
   "source": [
    "sample = thinkstats2.SampleRows(df, 5000)\n",
    "severity, windspeed, temperature, visibility,weather2 = sample['Severity'], sample['Wind_Speed(mph)'], sample['Temperature(F)'],sample['Visibility(mi)'],sample['Weather2']"
   ]
  },
  {
   "cell_type": "code",
   "execution_count": 50,
   "metadata": {},
   "outputs": [
    {
     "data": {
      "image/png": "[encoded data removed]",
      "text/plain": [
       "<Figure size 432x288 with 1 Axes>"
      ]
     },
     "metadata": {
      "needs_background": "light"
     },
     "output_type": "display_data"
    },
    {
     "data": {
      "text/plain": [
       "<Figure size 576x432 with 0 Axes>"
      ]
     },
     "metadata": {},
     "output_type": "display_data"
    }
   ],
   "source": [
    "thinkplot.Scatter(windspeed, visibility)\n",
    "thinkplot.Show(xlabel='Wind Speed',ylabel='Visibility')"
   ]
  },
  {
   "cell_type": "code",
   "execution_count": 51,
   "metadata": {},
   "outputs": [
    {
     "data": {
      "image/png": "[encoded data removed]",
      "text/plain": [
       "<Figure size 432x288 with 1 Axes>"
      ]
     },
     "metadata": {
      "needs_background": "light"
     },
     "output_type": "display_data"
    },
    {
     "data": {
      "text/plain": [
       "<Figure size 576x432 with 0 Axes>"
      ]
     },
     "metadata": {},
     "output_type": "display_data"
    }
   ],
   "source": [
    "#len(weather2)\n",
    "#len (visibility)\n",
    "thinkplot.Scatter(weather2, visibility)\n",
    "thinkplot.Show(xlabel='Wind Speed',ylabel='Visibility')"
   ]
  },
  {
   "cell_type": "code",
   "execution_count": 52,
   "metadata": {},
   "outputs": [],
   "source": [
    "# A function to calculate Covariance\n",
    "def Cov(xs, ys, meanx=None, meany=None):\n",
    "    xs = np.asarray(xs)\n",
    "    ys = np.asarray(ys)\n",
    "\n",
    "    if meanx is None:\n",
    "        meanx = np.mean(xs)\n",
    "    if meany is None:\n",
    "        meany = np.mean(ys)\n",
    "\n",
    "    cov = np.dot(xs-meanx, ys-meany) / len(xs)\n",
    "    return cov\n",
    "\n",
    "# A function to calculate Pearson's correlation\n",
    "def PearsonCorr(xs, ys):\n",
    "    xs = np.asarray(xs)\n",
    "    ys = np.asarray(ys)\n",
    "\n",
    "    meanx, varx = thinkstats2.MeanVar(xs)\n",
    "    meany, vary = thinkstats2.MeanVar(ys)\n",
    "\n",
    "    corr = Cov(xs, ys, meanx, meany) / np.sqrt(varx * vary)\n",
    "    return corr\n",
    "\n",
    "# A function to calculate Spearman's correlation\n",
    "def SpearmanCorr(xs, ys):\n",
    "    xranks = pd.Series(xs).rank()\n",
    "    yranks = pd.Series(ys).rank()\n",
    "    return PearsonCorr(xranks, yranks)"
   ]
  },
  {
   "cell_type": "code",
   "execution_count": 53,
   "metadata": {},
   "outputs": [
    {
     "data": {
      "text/plain": [
       "0.12112308999999982"
      ]
     },
     "execution_count": 53,
     "metadata": {},
     "output_type": "execute_result"
    }
   ],
   "source": [
    "Cov(windspeed,visibility)"
   ]
  },
  {
   "cell_type": "code",
   "execution_count": 54,
   "metadata": {},
   "outputs": [
    {
     "data": {
      "text/plain": [
       "0.009653579365185959"
      ]
     },
     "execution_count": 54,
     "metadata": {},
     "output_type": "execute_result"
    }
   ],
   "source": [
    "PearsonCorr(windspeed,visibility)"
   ]
  },
  {
   "cell_type": "code",
   "execution_count": 55,
   "metadata": {},
   "outputs": [
    {
     "data": {
      "text/plain": [
       "0.05911255438654067"
      ]
     },
     "execution_count": 55,
     "metadata": {},
     "output_type": "execute_result"
    }
   ],
   "source": [
    "SpearmanCorr(windspeed,visibility)"
   ]
  },
  {
   "cell_type": "code",
   "execution_count": 56,
   "metadata": {},
   "outputs": [
    {
     "data": {
      "text/plain": [
       "10.2832500586"
      ]
     },
     "execution_count": 56,
     "metadata": {},
     "output_type": "execute_result"
    }
   ],
   "source": [
    "Cov(temperature,visibility)"
   ]
  },
  {
   "cell_type": "code",
   "execution_count": 57,
   "metadata": {},
   "outputs": [
    {
     "data": {
      "text/plain": [
       "0.2174959014674928"
      ]
     },
     "execution_count": 57,
     "metadata": {},
     "output_type": "execute_result"
    }
   ],
   "source": [
    "PearsonCorr(temperature,visibility)"
   ]
  },
  {
   "cell_type": "code",
   "execution_count": 58,
   "metadata": {},
   "outputs": [
    {
     "data": {
      "text/plain": [
       "0.05911255438654067"
      ]
     },
     "execution_count": 58,
     "metadata": {},
     "output_type": "execute_result"
    }
   ],
   "source": [
    "SpearmanCorr(windspeed,visibility)"
   ]
  },
  {
   "cell_type": "code",
   "execution_count": 59,
   "metadata": {},
   "outputs": [],
   "source": [
    "class AccidentTest(thinkstats2.HypothesisTest):\n",
    "    def TestStatistic(self, data):\n",
    "        group1, group2 = data\n",
    "        test_stat = abs(group1.mean() - group2.mean())\n",
    "        return test_stat\n",
    "    \n",
    "    def MakeModel(self):\n",
    "        group1, group2 = self.data\n",
    "        self.n, self.m = len(group1), len(group2)\n",
    "        self.pool = np.hstack((group1, group2))\n",
    "        \n",
    "    def RunModel(self):\n",
    "        np.random.shuffle(self.pool)\n",
    "        data = self.pool[:self.n], self.pool[self.n:]\n",
    "        return data"
   ]
  },
  {
   "cell_type": "code",
   "execution_count": 63,
   "metadata": {},
   "outputs": [
    {
     "data": {
      "text/plain": [
       "0.037"
      ]
     },
     "execution_count": 63,
     "metadata": {},
     "output_type": "execute_result"
    }
   ],
   "source": [
    "data = severe['Visibility(mi)'].values, non_severe['Visibility(mi)'].values\n",
    "ht = AccidentTest(data)\n",
    "ht.PValue()"
   ]
  },
  {
   "cell_type": "code",
   "execution_count": 64,
   "metadata": {},
   "outputs": [
    {
     "data": {
      "text/plain": [
       "0.0"
      ]
     },
     "execution_count": 64,
     "metadata": {},
     "output_type": "execute_result"
    }
   ],
   "source": [
    "data = severe['Wind_Speed(mph)'].values, non_severe['Wind_Speed(mph)'].values\n",
    "ht = AccidentTest(data)\n",
    "ht.PValue()"
   ]
  },
  {
   "cell_type": "code",
   "execution_count": 86,
   "metadata": {},
   "outputs": [],
   "source": [
    "import random\n",
    "\n",
    "class SignalTest(thinkstats2.HypothesisTest):\n",
    "    def TestStatistic(self, data):\n",
    "        signal, no_signal = data\n",
    "        test_stat = abs(signal - no_signal)\n",
    "        return test_stat\n",
    "    def RunModel(self):\n",
    "        signal, no_signal = self.data\n",
    "        n = signal + no_signal\n",
    "        sample = [random.choice('YN') for _ in range(n)]\n",
    "        hist = thinkstats2.Hist(sample)\n",
    "        data = hist['Y'], hist['N']\n",
    "        return data"
   ]
  },
  {
   "cell_type": "code",
   "execution_count": 87,
   "metadata": {},
   "outputs": [
    {
     "ename": "KeyboardInterrupt",
     "evalue": "",
     "output_type": "error",
     "traceback": [
      "\u001b[1;31m---------------------------------------------------------------------------\u001b[0m",
      "\u001b[1;31mKeyboardInterrupt\u001b[0m                         Traceback (most recent call last)",
      "\u001b[1;32m<ipython-input-87-63420a573179>\u001b[0m in \u001b[0;36m<module>\u001b[1;34m\u001b[0m\n\u001b[0;32m      2\u001b[0m \u001b[0mno_signal\u001b[0m \u001b[1;33m=\u001b[0m \u001b[0mlen\u001b[0m\u001b[1;33m(\u001b[0m\u001b[0msignal\u001b[0m \u001b[1;33m==\u001b[0m \u001b[1;32mTrue\u001b[0m\u001b[1;33m)\u001b[0m\u001b[1;33m\u001b[0m\u001b[1;33m\u001b[0m\u001b[0m\n\u001b[0;32m      3\u001b[0m \u001b[0mct\u001b[0m \u001b[1;33m=\u001b[0m \u001b[0mSignalTest\u001b[0m\u001b[1;33m(\u001b[0m\u001b[1;33m(\u001b[0m\u001b[0myes_signal\u001b[0m\u001b[1;33m,\u001b[0m \u001b[0mno_signal\u001b[0m\u001b[1;33m)\u001b[0m\u001b[1;33m)\u001b[0m\u001b[1;33m\u001b[0m\u001b[1;33m\u001b[0m\u001b[0m\n\u001b[1;32m----> 4\u001b[1;33m \u001b[0mpvalue\u001b[0m \u001b[1;33m=\u001b[0m \u001b[0mct\u001b[0m\u001b[1;33m.\u001b[0m\u001b[0mPValue\u001b[0m\u001b[1;33m(\u001b[0m\u001b[1;33m)\u001b[0m\u001b[1;33m\u001b[0m\u001b[1;33m\u001b[0m\u001b[0m\n\u001b[0m",
      "\u001b[1;32m~\\Downloads\\us-accidents\\thinkstats2.py\u001b[0m in \u001b[0;36mPValue\u001b[1;34m(self, iters)\u001b[0m\n\u001b[0;32m   2993\u001b[0m         \"\"\"\n\u001b[0;32m   2994\u001b[0m         self.test_stats = [self.TestStatistic(self.RunModel()) \n\u001b[1;32m-> 2995\u001b[1;33m                            for _ in range(iters)]\n\u001b[0m\u001b[0;32m   2996\u001b[0m         \u001b[0mself\u001b[0m\u001b[1;33m.\u001b[0m\u001b[0mtest_cdf\u001b[0m \u001b[1;33m=\u001b[0m \u001b[0mCdf\u001b[0m\u001b[1;33m(\u001b[0m\u001b[0mself\u001b[0m\u001b[1;33m.\u001b[0m\u001b[0mtest_stats\u001b[0m\u001b[1;33m)\u001b[0m\u001b[1;33m\u001b[0m\u001b[1;33m\u001b[0m\u001b[0m\n\u001b[0;32m   2997\u001b[0m \u001b[1;33m\u001b[0m\u001b[0m\n",
      "\u001b[1;32m~\\Downloads\\us-accidents\\thinkstats2.py\u001b[0m in \u001b[0;36m<listcomp>\u001b[1;34m(.0)\u001b[0m\n\u001b[0;32m   2993\u001b[0m         \"\"\"\n\u001b[0;32m   2994\u001b[0m         self.test_stats = [self.TestStatistic(self.RunModel()) \n\u001b[1;32m-> 2995\u001b[1;33m                            for _ in range(iters)]\n\u001b[0m\u001b[0;32m   2996\u001b[0m         \u001b[0mself\u001b[0m\u001b[1;33m.\u001b[0m\u001b[0mtest_cdf\u001b[0m \u001b[1;33m=\u001b[0m \u001b[0mCdf\u001b[0m\u001b[1;33m(\u001b[0m\u001b[0mself\u001b[0m\u001b[1;33m.\u001b[0m\u001b[0mtest_stats\u001b[0m\u001b[1;33m)\u001b[0m\u001b[1;33m\u001b[0m\u001b[1;33m\u001b[0m\u001b[0m\n\u001b[0;32m   2997\u001b[0m \u001b[1;33m\u001b[0m\u001b[0m\n",
      "\u001b[1;32m<ipython-input-86-3793cb26ed8f>\u001b[0m in \u001b[0;36mRunModel\u001b[1;34m(self)\u001b[0m\n\u001b[0;32m      9\u001b[0m         \u001b[0msignal\u001b[0m\u001b[1;33m,\u001b[0m \u001b[0mno_signal\u001b[0m \u001b[1;33m=\u001b[0m \u001b[0mself\u001b[0m\u001b[1;33m.\u001b[0m\u001b[0mdata\u001b[0m\u001b[1;33m\u001b[0m\u001b[1;33m\u001b[0m\u001b[0m\n\u001b[0;32m     10\u001b[0m         \u001b[0mn\u001b[0m \u001b[1;33m=\u001b[0m \u001b[0msignal\u001b[0m \u001b[1;33m+\u001b[0m \u001b[0mno_signal\u001b[0m\u001b[1;33m\u001b[0m\u001b[1;33m\u001b[0m\u001b[0m\n\u001b[1;32m---> 11\u001b[1;33m         \u001b[0msample\u001b[0m \u001b[1;33m=\u001b[0m \u001b[1;33m[\u001b[0m\u001b[0mrandom\u001b[0m\u001b[1;33m.\u001b[0m\u001b[0mchoice\u001b[0m\u001b[1;33m(\u001b[0m\u001b[1;34m'YN'\u001b[0m\u001b[1;33m)\u001b[0m \u001b[1;32mfor\u001b[0m \u001b[0m_\u001b[0m \u001b[1;32min\u001b[0m \u001b[0mrange\u001b[0m\u001b[1;33m(\u001b[0m\u001b[0mn\u001b[0m\u001b[1;33m)\u001b[0m\u001b[1;33m]\u001b[0m\u001b[1;33m\u001b[0m\u001b[1;33m\u001b[0m\u001b[0m\n\u001b[0m\u001b[0;32m     12\u001b[0m         \u001b[0mhist\u001b[0m \u001b[1;33m=\u001b[0m \u001b[0mthinkstats2\u001b[0m\u001b[1;33m.\u001b[0m\u001b[0mHist\u001b[0m\u001b[1;33m(\u001b[0m\u001b[0msample\u001b[0m\u001b[1;33m)\u001b[0m\u001b[1;33m\u001b[0m\u001b[1;33m\u001b[0m\u001b[0m\n\u001b[0;32m     13\u001b[0m         \u001b[0mdata\u001b[0m \u001b[1;33m=\u001b[0m \u001b[0mhist\u001b[0m\u001b[1;33m[\u001b[0m\u001b[1;34m'Y'\u001b[0m\u001b[1;33m]\u001b[0m\u001b[1;33m,\u001b[0m \u001b[0mhist\u001b[0m\u001b[1;33m[\u001b[0m\u001b[1;34m'N'\u001b[0m\u001b[1;33m]\u001b[0m\u001b[1;33m\u001b[0m\u001b[1;33m\u001b[0m\u001b[0m\n",
      "\u001b[1;32m<ipython-input-86-3793cb26ed8f>\u001b[0m in \u001b[0;36m<listcomp>\u001b[1;34m(.0)\u001b[0m\n\u001b[0;32m      9\u001b[0m         \u001b[0msignal\u001b[0m\u001b[1;33m,\u001b[0m \u001b[0mno_signal\u001b[0m \u001b[1;33m=\u001b[0m \u001b[0mself\u001b[0m\u001b[1;33m.\u001b[0m\u001b[0mdata\u001b[0m\u001b[1;33m\u001b[0m\u001b[1;33m\u001b[0m\u001b[0m\n\u001b[0;32m     10\u001b[0m         \u001b[0mn\u001b[0m \u001b[1;33m=\u001b[0m \u001b[0msignal\u001b[0m \u001b[1;33m+\u001b[0m \u001b[0mno_signal\u001b[0m\u001b[1;33m\u001b[0m\u001b[1;33m\u001b[0m\u001b[0m\n\u001b[1;32m---> 11\u001b[1;33m         \u001b[0msample\u001b[0m \u001b[1;33m=\u001b[0m \u001b[1;33m[\u001b[0m\u001b[0mrandom\u001b[0m\u001b[1;33m.\u001b[0m\u001b[0mchoice\u001b[0m\u001b[1;33m(\u001b[0m\u001b[1;34m'YN'\u001b[0m\u001b[1;33m)\u001b[0m \u001b[1;32mfor\u001b[0m \u001b[0m_\u001b[0m \u001b[1;32min\u001b[0m \u001b[0mrange\u001b[0m\u001b[1;33m(\u001b[0m\u001b[0mn\u001b[0m\u001b[1;33m)\u001b[0m\u001b[1;33m]\u001b[0m\u001b[1;33m\u001b[0m\u001b[1;33m\u001b[0m\u001b[0m\n\u001b[0m\u001b[0;32m     12\u001b[0m         \u001b[0mhist\u001b[0m \u001b[1;33m=\u001b[0m \u001b[0mthinkstats2\u001b[0m\u001b[1;33m.\u001b[0m\u001b[0mHist\u001b[0m\u001b[1;33m(\u001b[0m\u001b[0msample\u001b[0m\u001b[1;33m)\u001b[0m\u001b[1;33m\u001b[0m\u001b[1;33m\u001b[0m\u001b[0m\n\u001b[0;32m     13\u001b[0m         \u001b[0mdata\u001b[0m \u001b[1;33m=\u001b[0m \u001b[0mhist\u001b[0m\u001b[1;33m[\u001b[0m\u001b[1;34m'Y'\u001b[0m\u001b[1;33m]\u001b[0m\u001b[1;33m,\u001b[0m \u001b[0mhist\u001b[0m\u001b[1;33m[\u001b[0m\u001b[1;34m'N'\u001b[0m\u001b[1;33m]\u001b[0m\u001b[1;33m\u001b[0m\u001b[1;33m\u001b[0m\u001b[0m\n",
      "\u001b[1;32m~\\Anaconda3\\lib\\random.py\u001b[0m in \u001b[0;36mchoice\u001b[1;34m(self, seq)\u001b[0m\n\u001b[0;32m    254\u001b[0m \u001b[1;31m## -------------------- sequence methods  -------------------\u001b[0m\u001b[1;33m\u001b[0m\u001b[1;33m\u001b[0m\u001b[1;33m\u001b[0m\u001b[0m\n\u001b[0;32m    255\u001b[0m \u001b[1;33m\u001b[0m\u001b[0m\n\u001b[1;32m--> 256\u001b[1;33m     \u001b[1;32mdef\u001b[0m \u001b[0mchoice\u001b[0m\u001b[1;33m(\u001b[0m\u001b[0mself\u001b[0m\u001b[1;33m,\u001b[0m \u001b[0mseq\u001b[0m\u001b[1;33m)\u001b[0m\u001b[1;33m:\u001b[0m\u001b[1;33m\u001b[0m\u001b[1;33m\u001b[0m\u001b[0m\n\u001b[0m\u001b[0;32m    257\u001b[0m         \u001b[1;34m\"\"\"Choose a random element from a non-empty sequence.\"\"\"\u001b[0m\u001b[1;33m\u001b[0m\u001b[1;33m\u001b[0m\u001b[0m\n\u001b[0;32m    258\u001b[0m         \u001b[1;32mtry\u001b[0m\u001b[1;33m:\u001b[0m\u001b[1;33m\u001b[0m\u001b[1;33m\u001b[0m\u001b[0m\n",
      "\u001b[1;31mKeyboardInterrupt\u001b[0m: "
     ]
    }
   ],
   "source": [
    "yes_signal = len(signal == True)\n",
    "no_signal = len(signal == True)\n",
    "ct = SignalTest((yes_signal, no_signal))\n",
    "pvalue = ct.PValue()"
   ]
  },
  {
   "cell_type": "code",
   "execution_count": null,
   "metadata": {},
   "outputs": [],
   "source": []
  },
  {
   "cell_type": "code",
   "execution_count": 125,
   "metadata": {},
   "outputs": [],
   "source": [
    "import statsmodels.formula.api as smf"
   ]
  },
  {
   "cell_type": "code",
   "execution_count": 130,
   "metadata": {},
   "outputs": [],
   "source": [
    "formula = 'Severity ~ visibility'\n",
    "\n",
    "model = smf.ols(formula, data=df)\n",
    "results = model.fit()"
   ]
  },
  {
   "cell_type": "code",
   "execution_count": 131,
   "metadata": {},
   "outputs": [
    {
     "name": "stdout",
     "output_type": "stream",
     "text": [
      "                            OLS Regression Results                            \n",
      "==============================================================================\n",
      "Dep. Variable:               Severity   R-squared:                       0.000\n",
      "Model:                            OLS   Adj. R-squared:                  0.000\n",
      "Method:                 Least Squares   F-statistic:                     1.818\n",
      "Date:                Tue, 26 May 2020   Prob (F-statistic):              0.178\n",
      "Time:                        21:38:53   Log-Likelihood:            -6.7934e+05\n",
      "No. Observations:              887641   AIC:                         1.359e+06\n",
      "Df Residuals:                  887639   BIC:                         1.359e+06\n",
      "Df Model:                           1                                         \n",
      "Covariance Type:            nonrobust                                         \n",
      "==============================================================================\n",
      "                 coef    std err          t      P>|t|      [0.025      0.975]\n",
      "------------------------------------------------------------------------------\n",
      "Intercept      2.3085      0.002   1236.773      0.000       2.305       2.312\n",
      "visibility    -0.0003      0.000     -1.348      0.178      -0.001       0.000\n",
      "==============================================================================\n",
      "Omnibus:                   194902.585   Durbin-Watson:                   1.395\n",
      "Prob(Omnibus):                  0.000   Jarque-Bera (JB):           352592.930\n",
      "Skew:                           1.437   Prob(JB):                         0.00\n",
      "Kurtosis:                       4.129   Cond. No.                         32.5\n",
      "==============================================================================\n",
      "\n",
      "Warnings:\n",
      "[1] Standard Errors assume that the covariance matrix of the errors is correctly specified.\n"
     ]
    }
   ],
   "source": [
    "print(results.summary())"
   ]
  },
  {
   "cell_type": "code",
   "execution_count": null,
   "metadata": {},
   "outputs": [],
   "source": []
  }
 ],
 "metadata": {
  "kernelspec": {
   "display_name": "Python 3",
   "language": "python",
   "name": "python3"
  },
  "language_info": {
   "codemirror_mode": {
    "name": "ipython",
    "version": 3
   },
   "file_extension": ".py",
   "mimetype": "text/x-python",
   "name": "python",
   "nbconvert_exporter": "python",
   "pygments_lexer": "ipython3",
   "version": "3.7.6"
  }
 },
 "nbformat": 4,
 "nbformat_minor": 4
}
